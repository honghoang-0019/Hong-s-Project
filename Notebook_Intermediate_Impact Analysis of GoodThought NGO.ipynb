{
 "cells": [
  {
   "attachments": {},
   "cell_type": "markdown",
   "id": "32803968-253d-4647-9262-8be3fa184271",
   "metadata": {},
   "source": [
    "Impact Analysis of GoodThought NGO\n",
    "\n",
    "GoodThought NGO has been a catalyst for positive change, focusing its efforts on education, healthcare, and sustainable development to make a significant difference in communities worldwide. With this mission, GoodThought has orchestrated an array of assignments aimed at uplifting underprivileged populations and fostering long-term growth.\n",
    "\n",
    "This project offers a hands-on opportunity to explore how data-driven insights can direct and enhance these humanitarian efforts. In this project, you'll engage with the GoodThought PostgreSQL database, which encapsulates detailed records of assignments, funding, impacts, and donor activities from 2010 to 2023. This comprehensive dataset includes:\n",
    "\n",
    "- **`Assignments`:** Details about each project, including its name, duration (start and end dates), budget, geographical region, and the impact score.\n",
    "- **`Donations`:** Records of financial contributions, linked to specific donors and assignments, highlighting how financial support is allocated and utilized.\n",
    "- **`Donors`:** Information on individuals and organizations that fund GoodThought’s projects, including donor types.\n",
    "\n",
    "Refer to the below ERD diagram for a visual representation of the relationships between these data tables:\n",
    "<img src=\"erd.png\" alt=\"ERD\" width=\"50%\" height=\"50%\">\n",
    "\n",
    "\n",
    "You will execute SQL queries to answer two questions:\n",
    "    List the top five assignments based on total value of donations, categorized by donor type. The output should include four columns: 1) assignment_name, 2) region, 3) rounded_total_donation_amount rounded to two decimal places, and 4) donor_type, sorted by rounded_total_donation_amount in descending order. Save the result as highest_donation_assignments.\r\n",
    "    \r\n",
    "Identify the assignment with the highest impact score in each region, ensuring that each listed assignment has received at least one donation. The output should include four columns: 1) assignment_name, 2) region, 3) impact_score, and 4) num_total_donations, sorted by region in ascending order. Include only the highest-scoring assignment per region, avoiding duplicates within the same region. Save the result as top_regional_impact_assignments.\n"
   ]
  },
  {
   "cell_type": "code",
   "execution_count": 49,
   "id": "b9c29e39-7d27-4a41-b9f6-553eb2881519",
   "metadata": {
    "customType": "sql",
    "dataFrameVariableName": "highest_donation_assignments",
    "executionCancelledAt": null,
    "executionTime": 941,
    "lastExecutedAt": 1720174966083,
    "lastExecutedByKernel": "96923e22-f2de-4b3a-a90c-5f34a9a50bad",
    "lastScheduledRunId": null,
    "lastSuccessfullyExecutedCode": "-- highest_donation_assignments\n/*with first as(\n\tselect assignment_id, donor_type, round(sum(budget),2) as rounded_total_donation_amount\n\tfrom assignments as a\n\tleft join donations as d\n\ton a.assignment_id = d.assignment_id\n\tleft join donors as dr\n\ton d.donor_id = dr.donor_id\n\tgroup by assignment_id, donor_type\n\torder by sum_budget desc\n\tlimit(5))\n\t\nselect assignment_name, region, rounded_total_donation_amount, donor_type\nfrom first as f\nleft join assignments as a\non f.assignment_id = a.assigment_id\n*/\n\n-- highest_donation_assignments\n-- first SQL cell\n\nWITH donation_details AS (\n    SELECT\n        d.assignment_id,\n        ROUND(SUM(d.amount), 2) AS rounded_total_donation_amount,\n        dn.donor_type\n    FROM\n        donations d\n    JOIN donors dn ON d.donor_id = dn.donor_id\n    GROUP BY\n        d.assignment_id, dn.donor_type\n)\nSELECT\n    a.assignment_name,\n    a.region,\n    dd.rounded_total_donation_amount,\n    dd.donor_type\nFROM\n    assignments a\nJOIN\n    donation_details dd ON a.assignment_id = dd.assignment_id\nORDER BY\n    dd.rounded_total_donation_amount DESC\nLIMIT 5;\n",
    "outputsMetadata": {
     "0": {
      "height": 196,
      "type": "dataFrame"
     }
    },
    "sqlCellMode": "dataFrame",
    "sqlSource": {
     "integrationId": "89e17161-a224-4a8a-846b-0adc0fe7a4b1",
     "integrationType": "postgresql",
     "type": "integration"
    }
   },
   "outputs": [
    {
     "@datacamp/metadata": {
      "executedQuery": "-- highest_donation_assignments\n/*with first as(\n\tselect assignment_id, donor_type, round(sum(budget),2) as rounded_total_donation_amount\n\tfrom assignments as a\n\tleft join donations as d\n\ton a.assignment_id = d.assignment_id\n\tleft join donors as dr\n\ton d.donor_id = dr.donor_id\n\tgroup by assignment_id, donor_type\n\torder by sum_budget desc\n\tlimit(5))\n\t\nselect assignment_name, region, rounded_total_donation_amount, donor_type\nfrom first as f\nleft join assignments as a\non f.assignment_id = a.assigment_id\n*/\n\n-- highest_donation_assignments\n-- first SQL cell\n\nWITH donation_details AS (\n    SELECT\n        d.assignment_id,\n        ROUND(SUM(d.amount), 2) AS rounded_total_donation_amount,\n        dn.donor_type\n    FROM\n        donations d\n    JOIN donors dn ON d.donor_id = dn.donor_id\n    GROUP BY\n        d.assignment_id, dn.donor_type\n)\nSELECT\n    a.assignment_name,\n    a.region,\n    dd.rounded_total_donation_amount,\n    dd.donor_type\nFROM\n    assignments a\nJOIN\n    donation_details dd ON a.assignment_id = dd.assignment_id\nORDER BY\n    dd.rounded_total_donation_amount DESC\nLIMIT 5;",
      "executedQueryParameters": []
     },
     "data": {
      "application/com.datacamp.data-table.v2+json": {
       "table": {
        "data": {
         "assignment_name": [
          "Assignment_3033",
          "Assignment_300",
          "Assignment_4114",
          "Assignment_1765",
          "Assignment_268"
         ],
         "donor_type": [
          "Individual",
          "Organization",
          "Organization",
          "Organization",
          "Individual"
         ],
         "index": [
          0,
          1,
          2,
          3,
          4
         ],
         "region": [
          "East",
          "West",
          "North",
          "West",
          "East"
         ],
         "rounded_total_donation_amount": [
          3840.66,
          3133.98,
          2778.57,
          2626.98,
          2488.69
         ]
        },
        "schema": {
         "fields": [
          {
           "name": "index",
           "type": "integer"
          },
          {
           "name": "assignment_name",
           "type": "string"
          },
          {
           "name": "region",
           "type": "string"
          },
          {
           "name": "rounded_total_donation_amount",
           "type": "number"
          },
          {
           "name": "donor_type",
           "type": "string"
          }
         ],
         "pandas_version": "1.4.0",
         "primaryKey": [
          "index"
         ]
        }
       },
       "total_rows": 5,
       "truncation_type": null
      },
      "text/html": [
       "<div>\n",
       "<style scoped>\n",
       "    .dataframe tbody tr th:only-of-type {\n",
       "        vertical-align: middle;\n",
       "    }\n",
       "\n",
       "    .dataframe tbody tr th {\n",
       "        vertical-align: top;\n",
       "    }\n",
       "\n",
       "    .dataframe thead th {\n",
       "        text-align: right;\n",
       "    }\n",
       "</style>\n",
       "<table border=\"1\" class=\"dataframe\">\n",
       "  <thead>\n",
       "    <tr style=\"text-align: right;\">\n",
       "      <th></th>\n",
       "      <th>assignment_name</th>\n",
       "      <th>region</th>\n",
       "      <th>rounded_total_donation_amount</th>\n",
       "      <th>donor_type</th>\n",
       "    </tr>\n",
       "  </thead>\n",
       "  <tbody>\n",
       "    <tr>\n",
       "      <th>0</th>\n",
       "      <td>Assignment_3033</td>\n",
       "      <td>East</td>\n",
       "      <td>3840.66</td>\n",
       "      <td>Individual</td>\n",
       "    </tr>\n",
       "    <tr>\n",
       "      <th>1</th>\n",
       "      <td>Assignment_300</td>\n",
       "      <td>West</td>\n",
       "      <td>3133.98</td>\n",
       "      <td>Organization</td>\n",
       "    </tr>\n",
       "    <tr>\n",
       "      <th>2</th>\n",
       "      <td>Assignment_4114</td>\n",
       "      <td>North</td>\n",
       "      <td>2778.57</td>\n",
       "      <td>Organization</td>\n",
       "    </tr>\n",
       "    <tr>\n",
       "      <th>3</th>\n",
       "      <td>Assignment_1765</td>\n",
       "      <td>West</td>\n",
       "      <td>2626.98</td>\n",
       "      <td>Organization</td>\n",
       "    </tr>\n",
       "    <tr>\n",
       "      <th>4</th>\n",
       "      <td>Assignment_268</td>\n",
       "      <td>East</td>\n",
       "      <td>2488.69</td>\n",
       "      <td>Individual</td>\n",
       "    </tr>\n",
       "  </tbody>\n",
       "</table>\n",
       "</div>"
      ],
      "text/plain": [
       "   assignment_name region  rounded_total_donation_amount    donor_type\n",
       "0  Assignment_3033   East                        3840.66    Individual\n",
       "1   Assignment_300   West                        3133.98  Organization\n",
       "2  Assignment_4114  North                        2778.57  Organization\n",
       "3  Assignment_1765   West                        2626.98  Organization\n",
       "4   Assignment_268   East                        2488.69    Individual"
      ]
     },
     "execution_count": 49,
     "metadata": {},
     "output_type": "execute_result"
    }
   ],
   "source": [
    "-- highest_donation_assignments\n",
    "/*with first as(\n",
    "\tselect assignment_id, donor_type, round(sum(budget),2) as rounded_total_donation_amount\n",
    "\tfrom assignments as a\n",
    "\tleft join donations as d\n",
    "\ton a.assignment_id = d.assignment_id\n",
    "\tleft join donors as dr\n",
    "\ton d.donor_id = dr.donor_id\n",
    "\tgroup by assignment_id, donor_type\n",
    "\torder by sum_budget desc\n",
    "\tlimit(5))\n",
    "\t\n",
    "select assignment_name, region, rounded_total_donation_amount, donor_type\n",
    "from first as f\n",
    "left join assignments as a\n",
    "on f.assignment_id = a.assigment_id\n",
    "*/\n",
    "\n",
    "-- highest_donation_assignments\n",
    "-- first SQL cell\n",
    "\n",
    "WITH donation_details AS (\n",
    "    SELECT\n",
    "        d.assignment_id,\n",
    "        ROUND(SUM(d.amount), 2) AS rounded_total_donation_amount,\n",
    "        dn.donor_type\n",
    "    FROM\n",
    "        donations d\n",
    "    JOIN donors dn ON d.donor_id = dn.donor_id\n",
    "    GROUP BY\n",
    "        d.assignment_id, dn.donor_type\n",
    ")\n",
    "SELECT\n",
    "    a.assignment_name,\n",
    "    a.region,\n",
    "    dd.rounded_total_donation_amount,\n",
    "    dd.donor_type\n",
    "FROM\n",
    "    assignments a\n",
    "JOIN\n",
    "    donation_details dd ON a.assignment_id = dd.assignment_id\n",
    "ORDER BY\n",
    "    dd.rounded_total_donation_amount DESC\n",
    "LIMIT 5;\n"
   ]
  },
  {
   "cell_type": "code",
   "execution_count": 50,
   "id": "7ffa5c94-fda1-4b9d-b8f3-a6442b00e423",
   "metadata": {
    "customType": "sql",
    "dataFrameVariableName": "top_regional_impact_assignments",
    "executionCancelledAt": null,
    "executionTime": 865,
    "lastExecutedAt": 1720174966948,
    "lastExecutedByKernel": "96923e22-f2de-4b3a-a90c-5f34a9a50bad",
    "lastScheduledRunId": null,
    "lastSuccessfullyExecutedCode": "-- top_regional_impact_assignments\n/*\nselect assignment_name, region, max(impact_score), sum(budget) as num_total_donations\nfrom assignments as a\ngroup by assignment_name, region\norder by region\n*/\n\n-- top_regional_assignments\n-- second SQL cell\nWITH donation_counts AS (\n    SELECT\n        assignment_id,\n        COUNT(donation_id) AS num_total_donations\n    FROM\n        donations\n    GROUP BY\n        assignment_id\n),\nranked_assignments AS (\n    SELECT\n        a.assignment_name,\n        a.region,\n        a.impact_score,\n        dc.num_total_donations,\n        ROW_NUMBER() OVER (PARTITION BY a.region ORDER BY a.impact_score DESC) AS rank_in_region\n    FROM\n        assignments a\n    JOIN\n        donation_counts dc ON a.assignment_id = dc.assignment_id\n    WHERE\n        dc.num_total_donations > 0\n)\nSELECT\n    assignment_name,\n    region,\n    impact_score,\n    num_total_donations\nFROM\n    ranked_assignments\nWHERE\n    rank_in_region = 1\nORDER BY\n    region ASC;\n",
    "outputsMetadata": {
     "0": {
      "height": 321,
      "type": "dataFrame"
     }
    },
    "sqlCellMode": "dataFrame",
    "sqlSource": {
     "integrationId": "89e17161-a224-4a8a-846b-0adc0fe7a4b1",
     "integrationType": "postgresql",
     "type": "integration"
    }
   },
   "outputs": [
    {
     "@datacamp/metadata": {
      "executedQuery": "-- top_regional_impact_assignments\n/*\nselect assignment_name, region, max(impact_score), sum(budget) as num_total_donations\nfrom assignments as a\ngroup by assignment_name, region\norder by region\n*/\n\n-- top_regional_assignments\n-- second SQL cell\nWITH donation_counts AS (\n    SELECT\n        assignment_id,\n        COUNT(donation_id) AS num_total_donations\n    FROM\n        donations\n    GROUP BY\n        assignment_id\n),\nranked_assignments AS (\n    SELECT\n        a.assignment_name,\n        a.region,\n        a.impact_score,\n        dc.num_total_donations,\n        ROW_NUMBER() OVER (PARTITION BY a.region ORDER BY a.impact_score DESC) AS rank_in_region\n    FROM\n        assignments a\n    JOIN\n        donation_counts dc ON a.assignment_id = dc.assignment_id\n    WHERE\n        dc.num_total_donations > 0\n)\nSELECT\n    assignment_name,\n    region,\n    impact_score,\n    num_total_donations\nFROM\n    ranked_assignments\nWHERE\n    rank_in_region = 1\nORDER BY\n    region ASC;",
      "executedQueryParameters": []
     },
     "data": {
      "application/com.datacamp.data-table.v2+json": {
       "table": {
        "data": {
         "assignment_name": [
          "Assignment_316",
          "Assignment_2253",
          "Assignment_3547",
          "Assignment_2794"
         ],
         "impact_score": [
          10,
          9.99,
          10,
          9.99
         ],
         "index": [
          0,
          1,
          2,
          3
         ],
         "num_total_donations": [
          2,
          1,
          1,
          2
         ],
         "region": [
          "East",
          "North",
          "South",
          "West"
         ]
        },
        "schema": {
         "fields": [
          {
           "name": "index",
           "type": "integer"
          },
          {
           "name": "assignment_name",
           "type": "string"
          },
          {
           "name": "region",
           "type": "string"
          },
          {
           "name": "impact_score",
           "type": "number"
          },
          {
           "name": "num_total_donations",
           "type": "integer"
          }
         ],
         "pandas_version": "1.4.0",
         "primaryKey": [
          "index"
         ]
        }
       },
       "total_rows": 4,
       "truncation_type": null
      },
      "text/html": [
       "<div>\n",
       "<style scoped>\n",
       "    .dataframe tbody tr th:only-of-type {\n",
       "        vertical-align: middle;\n",
       "    }\n",
       "\n",
       "    .dataframe tbody tr th {\n",
       "        vertical-align: top;\n",
       "    }\n",
       "\n",
       "    .dataframe thead th {\n",
       "        text-align: right;\n",
       "    }\n",
       "</style>\n",
       "<table border=\"1\" class=\"dataframe\">\n",
       "  <thead>\n",
       "    <tr style=\"text-align: right;\">\n",
       "      <th></th>\n",
       "      <th>assignment_name</th>\n",
       "      <th>region</th>\n",
       "      <th>impact_score</th>\n",
       "      <th>num_total_donations</th>\n",
       "    </tr>\n",
       "  </thead>\n",
       "  <tbody>\n",
       "    <tr>\n",
       "      <th>0</th>\n",
       "      <td>Assignment_316</td>\n",
       "      <td>East</td>\n",
       "      <td>10.00</td>\n",
       "      <td>2</td>\n",
       "    </tr>\n",
       "    <tr>\n",
       "      <th>1</th>\n",
       "      <td>Assignment_2253</td>\n",
       "      <td>North</td>\n",
       "      <td>9.99</td>\n",
       "      <td>1</td>\n",
       "    </tr>\n",
       "    <tr>\n",
       "      <th>2</th>\n",
       "      <td>Assignment_3547</td>\n",
       "      <td>South</td>\n",
       "      <td>10.00</td>\n",
       "      <td>1</td>\n",
       "    </tr>\n",
       "    <tr>\n",
       "      <th>3</th>\n",
       "      <td>Assignment_2794</td>\n",
       "      <td>West</td>\n",
       "      <td>9.99</td>\n",
       "      <td>2</td>\n",
       "    </tr>\n",
       "  </tbody>\n",
       "</table>\n",
       "</div>"
      ],
      "text/plain": [
       "   assignment_name region  impact_score  num_total_donations\n",
       "0   Assignment_316   East         10.00                    2\n",
       "1  Assignment_2253  North          9.99                    1\n",
       "2  Assignment_3547  South         10.00                    1\n",
       "3  Assignment_2794   West          9.99                    2"
      ]
     },
     "execution_count": 50,
     "metadata": {},
     "output_type": "execute_result"
    }
   ],
   "source": [
    "-- top_regional_impact_assignments\n",
    "/*\n",
    "select assignment_name, region, max(impact_score), sum(budget) as num_total_donations\n",
    "from assignments as a\n",
    "group by assignment_name, region\n",
    "order by region\n",
    "*/\n",
    "\n",
    "-- top_regional_assignments\n",
    "-- second SQL cell\n",
    "WITH donation_counts AS (\n",
    "    SELECT\n",
    "        assignment_id,\n",
    "        COUNT(donation_id) AS num_total_donations\n",
    "    FROM\n",
    "        donations\n",
    "    GROUP BY\n",
    "        assignment_id\n",
    "),\n",
    "ranked_assignments AS (\n",
    "    SELECT\n",
    "        a.assignment_name,\n",
    "        a.region,\n",
    "        a.impact_score,\n",
    "        dc.num_total_donations,\n",
    "        ROW_NUMBER() OVER (PARTITION BY a.region ORDER BY a.impact_score DESC) AS rank_in_region\n",
    "    FROM\n",
    "        assignments a\n",
    "    JOIN\n",
    "        donation_counts dc ON a.assignment_id = dc.assignment_id\n",
    "    WHERE\n",
    "        dc.num_total_donations > 0\n",
    ")\n",
    "SELECT\n",
    "    assignment_name,\n",
    "    region,\n",
    "    impact_score,\n",
    "    num_total_donations\n",
    "FROM\n",
    "    ranked_assignments\n",
    "WHERE\n",
    "    rank_in_region = 1\n",
    "ORDER BY\n",
    "    region ASC;\n"
   ]
  },
  {
   "cell_type": "markdown",
   "id": "1e85e1cf-8a32-45ef-80ea-e55616ff95e7",
   "metadata": {},
   "source": []
  }
 ],
 "metadata": {
  "colab": {
   "name": "Welcome to DataCamp Workspaces.ipynb",
   "provenance": []
  },
  "kernelspec": {
   "display_name": "Python 3 (ipykernel)",
   "language": "python",
   "name": "python3"
  },
  "language_info": {
   "codemirror_mode": {
    "name": "ipython",
    "version": 3
   },
   "file_extension": ".py",
   "mimetype": "text/x-python",
   "name": "python",
   "nbconvert_exporter": "python",
   "pygments_lexer": "ipython3",
   "version": "3.12.4"
  }
 },
 "nbformat": 4,
 "nbformat_minor": 5
}
